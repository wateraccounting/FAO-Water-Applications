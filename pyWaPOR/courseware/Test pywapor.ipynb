{
 "cells": [
  {
   "cell_type": "markdown",
   "id": "bc3aaba4-2445-4cc1-b356-411654e4fccf",
   "metadata": {},
   "source": [
    "[![](https://colab.research.google.com/assets/colab-badge.svg)](https://colab.research.google.com/github/wateraccounting/FAO-Water-Applications/blob/main/pyWaPOR/courseware/Test%20pywapor.ipynb?target=\\\"_blank\\\")"
   ]
  },
  {
   "cell_type": "code",
   "execution_count": null,
   "id": "4934b5c9-5775-4911-b302-bf26f24dfe47",
   "metadata": {},
   "outputs": [],
   "source": [
    "# Run this cell in Colab to install pywapor.\n",
    "\n",
    "!pip install pywapor --quiet"
   ]
  },
  {
   "cell_type": "code",
   "execution_count": 1,
   "id": "72c8aa10-0dbf-4c61-b7be-67d1c7ce6858",
   "metadata": {},
   "outputs": [
    {
     "name": "stderr",
     "output_type": "stream",
     "text": [
      "C:\\Users\\ntr002\\.conda\\envs\\pywapor\\Lib\\site-packages\\tqdm\\auto.py:21: TqdmWarning: IProgress not found. Please update jupyter and ipywidgets. See https://ipywidgets.readthedocs.io/en/stable/user_install.html\n",
      "  from .autonotebook import tqdm as notebook_tqdm\n"
     ]
    }
   ],
   "source": [
    "import pywapor"
   ]
  },
  {
   "cell_type": "code",
   "execution_count": 2,
   "id": "8c7acf61-c9d2-472f-b3fb-f22c7a371999",
   "metadata": {},
   "outputs": [
    {
     "name": "stdout",
     "output_type": "stream",
     "text": [
      "> PROJECT\n",
      "    --> Project Folder:\n",
      "        > Test_case\n",
      "    --> Period:\n",
      "        > 2023-03-01 00:00:00 - 2023-03-02 00:00:00\n",
      "    --> Bounding-Box:\n",
      "\n",
      "                  14.3488\n",
      "                 ┌─────────┐\n",
      "                 │         │\n",
      "         33.1479 │         │  33.2875\n",
      "                 │         │\n",
      "                 └─────────┘\n",
      "                  14.2657\n",
      "\n",
      "    --> Configuration:\n",
      "        > None\n",
      "    --> pyWaPOR Version:\n",
      "        > 3.5.9\n",
      "< PROJECT\n"
     ]
    }
   ],
   "source": [
    "project_folder = r\"Test_case\" #Path to folder\n",
    "bb = [33.1479429498060583, 14.2657100971198449, 33.2874918465625242, 14.3487734799492763] # [xmin, ymin, xmax, ymax] #Wad_Helal\n",
    "period = [\"2023-03-01\", \"2023-03-02\"] \n",
    "# Set up a project.\n",
    "project = pywapor.Project(project_folder, bb, period)"
   ]
  },
  {
   "cell_type": "code",
   "execution_count": 3,
   "id": "035563ae-211d-4adb-a838-eaadd92c64eb",
   "metadata": {},
   "outputs": [
    {
     "name": "stdout",
     "output_type": "stream",
     "text": [
      "> CONFIGURATION\n",
      "    --> Creating configuration from summary.\n",
      "        --> Validating configuration.\n",
      "            > Variable `se_root` will be loaded from a file `FILE:{folder}{sep}se_root_out*.nc.from_file`.\n",
      "            > All specified variables sources are valid.\n",
      "        --> Making summary of configuration.\n",
      "        --> Making configuration for SE_ROOT.\n",
      "        --> Making configuration for ET_LOOK.\n",
      "            --> No configuration found for [`rs_min`], will use constant value.\n",
      "            --> No configuration found for [`land_mask`], will use constant value.\n",
      "            --> No configuration found for [`z_obst_max`], will use constant value.\n",
      "            --> No configuration found for [`z_oro`], will use constant value.\n",
      "    --> Configuration created.\n",
      "    --> Summary:\n",
      "        --> Optical data:\n",
      "            > `SENTINEL2.S2MSI2A_R20m`\n",
      "        --> Soil Moisture data:\n",
      "            > `FILE:{folder}{sep}se_root_out*.nc.from_file`\n",
      "        --> Precipitation data:\n",
      "            > `CHIRPS.P05`\n",
      "        --> Elevation data:\n",
      "            > `SRTM.30M`\n",
      "        --> Solar Radiation data:\n",
      "            > `MERRA2.M2T1NXRAD.5.12.4`\n",
      "        --> Meteorological data:\n",
      "            > `GEOS5.inst3_2d_asm_Nx`\n",
      "        --> Statics data:\n",
      "            > `STATICS.WaPOR3`\n",
      "        --> Thermal data:\n",
      "            > `MODIS.MOD11A1.061`, `MODIS.MYD11A1.061`\n",
      "        --> Example Product:\n",
      "            > SENTINEL2.S2MSI2A_R20m\n",
      "        --> Applying whittaker to variables from sources:\n",
      "            > ``\n",
      "        --> Sharpening these variables:\n",
      "            > `lst`\n",
      "< CONFIGURATION\n"
     ]
    },
    {
     "data": {
      "text/plain": [
       "--> Optical data:\n",
       "    > `SENTINEL2.S2MSI2A_R20m`\n",
       "--> Soil Moisture data:\n",
       "    > `FILE:{folder}{sep}se_root_out*.nc.from_file`\n",
       "--> Precipitation data:\n",
       "    > `CHIRPS.P05`\n",
       "--> Elevation data:\n",
       "    > `SRTM.30M`\n",
       "--> Solar Radiation data:\n",
       "    > `MERRA2.M2T1NXRAD.5.12.4`\n",
       "--> Meteorological data:\n",
       "    > `GEOS5.inst3_2d_asm_Nx`\n",
       "--> Statics data:\n",
       "    > `STATICS.WaPOR3`\n",
       "--> Thermal data:\n",
       "    > `MODIS.MOD11A1.061`, `MODIS.MYD11A1.061`\n",
       "--> Example Product:\n",
       "    > SENTINEL2.S2MSI2A_R20m\n",
       "--> Applying whittaker to variables from sources:\n",
       "    > ``\n",
       "--> Sharpening these variables:\n",
       "    > `lst`"
      ]
     },
     "execution_count": 3,
     "metadata": {},
     "output_type": "execute_result"
    }
   ],
   "source": [
    "summary = {\n",
    "            '_ENHANCE_': {\"lst\": [\"pywapor.enhancers.dms.thermal_sharpener.sharpen\"],},\n",
    "            '_EXAMPLE_': 'SENTINEL2.S2MSI2A_R20m',\n",
    "            '_WHITTAKER_': {'SENTINEL2.S2MSI2A_R20m':{'method':'linear'},\t\t\t\t\t\t\t\t\n",
    "                            'MODIS.MYD11A1.061':{'method':'linear'},\t\n",
    "                            'MODIS.MOD11A1.061':{'method':'linear'},\t\t\t\t\t\t\t\n",
    "\t\t\t\t},\n",
    "            'elevation': {'SRTM.30M'},\n",
    "            'meteorological': {'GEOS5.inst3_2d_asm_Nx'},\n",
    "            'optical': {'SENTINEL2.S2MSI2A_R20m'},\n",
    "            'precipitation': {'CHIRPS.P05'},\n",
    "            'soil moisture': {'FILE:{folder}{sep}se_root_out*.nc'},\n",
    "            'solar radiation': {'MERRA2.M2T1NXRAD.5.12.4'},\n",
    "            'statics': {'STATICS.WaPOR3'},\n",
    "            'thermal': {'MODIS.MYD11A1.061','MODIS.MOD11A1.061'},            \n",
    "            }\n",
    "project.load_configuration(summary = summary)"
   ]
  },
  {
   "cell_type": "code",
   "execution_count": 4,
   "id": "b21a5173-fd45-42b3-b9e6-806d8ac5c15b",
   "metadata": {},
   "outputs": [
    {
     "name": "stdout",
     "output_type": "stream",
     "text": [
      "> PASSWORDS\n",
      "    --> Accounts needed for `NASA`, `COPERNICUS_DATA_SPACE`.\n",
      "    --> All set!\n",
      "< PASSWORDS\n"
     ]
    }
   ],
   "source": [
    "project.set_passwords()"
   ]
  },
  {
   "cell_type": "code",
   "execution_count": 5,
   "id": "1e0b62f5-8d7c-4a60-a80f-777d98a4c50f",
   "metadata": {},
   "outputs": [
    {
     "name": "stdout",
     "output_type": "stream",
     "text": [
      "> DOWNLOADER\n",
      "    --> Collecting `lst` from `MODIS.MOD11A1.061`.\n"
     ]
    },
    {
     "name": "stderr",
     "output_type": "stream",
     "text": [
      "                                                  \r"
     ]
    },
    {
     "name": "stdout",
     "output_type": "stream",
     "text": [
      "        --> Applying 'mask_bitwise_qa' to `lst`.\n",
      "        --> Applying 'expand_time_dim' to `lst`.\n",
      "        --> Saving merged data.\n"
     ]
    },
    {
     "name": "stderr",
     "output_type": "stream",
     "text": [
      "C:\\Users\\ntr002\\.conda\\envs\\pywapor\\Lib\\site-packages\\xarray\\core\\duck_array_ops.py:239: RuntimeWarning: invalid value encountered in cast\n",
      "  return data.astype(dtype, **kwargs)\n"
     ]
    },
    {
     "name": "stdout",
     "output_type": "stream",
     "text": [
      "            > peak-memory-usage: 283.8KB, execution-time: 0:00:02.110526.\n",
      "            > chunksize|dimsize: [time: 4|4, y: 14|14, x: 21|21], crs: EPSG:4326\n",
      "            > timesize: 4 [2023-03-01T10:36, ..., 2023-03-03T10:18]\n",
      "    --> Collecting `lst` from `MODIS.MYD11A1.061`.\n"
     ]
    },
    {
     "name": "stderr",
     "output_type": "stream",
     "text": [
      "                                                  \r"
     ]
    },
    {
     "name": "stdout",
     "output_type": "stream",
     "text": [
      "        --> Applying 'mask_bitwise_qa' to `lst`.\n",
      "        --> Applying 'expand_time_dim' to `lst`.\n",
      "        --> Saving merged data.\n"
     ]
    },
    {
     "name": "stderr",
     "output_type": "stream",
     "text": [
      "C:\\Users\\ntr002\\.conda\\envs\\pywapor\\Lib\\site-packages\\xarray\\core\\duck_array_ops.py:239: RuntimeWarning: invalid value encountered in cast\n",
      "  return data.astype(dtype, **kwargs)\n"
     ]
    },
    {
     "name": "stdout",
     "output_type": "stream",
     "text": [
      "            > peak-memory-usage: 17.2KB, execution-time: 0:00:02.059191.\n",
      "            > chunksize|dimsize: [time: 2|2, y: 14|14, x: 21|21], crs: EPSG:4326\n",
      "            > timesize: 2 [2023-03-01T13:06, ..., 2023-03-02T13:48]\n",
      "    --> Collecting `ndvi`, `r0`, `nmdi`, `bsi`, `mndwi`, `vari_red_edge`, `psri`, `nir`, `green` from `SENTINEL2.S2MSI2A_R20m`.\n",
      "        --> Searching nodes for 2 `SENTINEL-2.S2MSI2A` scenes.\n"
     ]
    },
    {
     "name": "stderr",
     "output_type": "stream",
     "text": [
      "                                                                                                                       "
     ]
    },
    {
     "name": "stdout",
     "output_type": "stream",
     "text": [
      "        --> 18 nodes required.\n",
      "        --> Downloading 18 missing nodes.\n",
      "            --> Requesting access token.\n"
     ]
    },
    {
     "name": "stderr",
     "output_type": "stream",
     "text": [
      "                                                                                                                       \r"
     ]
    },
    {
     "name": "stdout",
     "output_type": "stream",
     "text": [
      "        --> Processing 2 scenes.\n",
      "            --> Applying 'mask_invalid' to `red`.\n",
      "            --> Applying 'apply_qa' to `red`.\n",
      "            --> Applying 'scale_data' to `red`.\n",
      "            --> Applying 'mask_invalid' to `nir`.\n",
      "            --> Applying 'apply_qa' to `nir`.\n",
      "            --> Applying 'scale_data' to `nir`.\n",
      "            --> Applying 'mask_invalid' to `blue`.\n",
      "            --> Applying 'apply_qa' to `blue`.\n",
      "            --> Applying 'scale_data' to `blue`.\n",
      "            --> Applying 'mask_invalid' to `green`.\n",
      "            --> Applying 'apply_qa' to `green`.\n",
      "            --> Applying 'scale_data' to `green`.\n",
      "            --> Applying 'mask_invalid' to `swir1`.\n",
      "            --> Applying 'apply_qa' to `swir1`.\n",
      "            --> Applying 'scale_data' to `swir1`.\n",
      "            --> Applying 'mask_invalid' to `swir2`.\n",
      "            --> Applying 'apply_qa' to `swir2`.\n",
      "            --> Applying 'scale_data' to `swir2`.\n",
      "            --> Applying 'mask_invalid' to `red_edge_740`.\n",
      "            --> Applying 'apply_qa' to `red_edge_740`.\n",
      "            --> Applying 'scale_data' to `red_edge_740`.\n",
      "            --> Creating example dataset.\n",
      "                > peak-memory-usage: 12.4KB, execution-time: 0:00:00.020760.\n",
      "                > chunksize|dimsize: [], crs: EPSG:4326\n",
      "            --> (1/2) Processing S2A_MSIL2A_20230226T080911_N0509_R078_T36PWA_20230226T114254.SAFE to netCDF.\n",
      "                > peak-memory-usage: 30.8MB, execution-time: 0:00:02.647537.\n",
      "                > chunksize|dimsize: [time: 1|1, y: 452|452, x: 759|759], crs: EPSG:4326\n",
      "            --> Applying 'mask_invalid' to `red`.\n",
      "            --> Applying 'apply_qa' to `red`.\n",
      "            --> Applying 'scale_data' to `red`.\n",
      "            --> Applying 'mask_invalid' to `nir`.\n",
      "            --> Applying 'apply_qa' to `nir`.\n",
      "            --> Applying 'scale_data' to `nir`.\n",
      "            --> Applying 'mask_invalid' to `blue`.\n",
      "            --> Applying 'apply_qa' to `blue`.\n",
      "            --> Applying 'scale_data' to `blue`.\n",
      "            --> Applying 'mask_invalid' to `green`.\n",
      "            --> Applying 'apply_qa' to `green`.\n",
      "            --> Applying 'scale_data' to `green`.\n",
      "            --> Applying 'mask_invalid' to `swir1`.\n",
      "            --> Applying 'apply_qa' to `swir1`.\n",
      "            --> Applying 'scale_data' to `swir1`.\n",
      "            --> Applying 'mask_invalid' to `swir2`.\n",
      "            --> Applying 'apply_qa' to `swir2`.\n",
      "            --> Applying 'scale_data' to `swir2`.\n",
      "            --> Applying 'mask_invalid' to `red_edge_740`.\n",
      "            --> Applying 'apply_qa' to `red_edge_740`.\n",
      "            --> Applying 'scale_data' to `red_edge_740`.\n",
      "            --> (2/2) Processing S2B_MSIL2A_20230303T080809_N0509_R078_T36PWA_20230303T122514.SAFE to netCDF.\n",
      "                > peak-memory-usage: 47.2MB, execution-time: 0:00:02.601010.\n",
      "                > chunksize|dimsize: [time: 1|1, y: 452|452, x: 759|759], crs: EPSG:4326\n",
      "        --> Applying 'calc_normalized_difference' to `ndvi`.\n",
      "        --> Applying 'gap_fill' to `ndvi`.\n",
      "        --> Applying 'calc_r0' to `r0`.\n",
      "        --> Applying 'gap_fill' to `r0`.\n"
     ]
    },
    {
     "name": "stderr",
     "output_type": "stream",
     "text": [
      "C:\\Users\\ntr002\\.conda\\envs\\pywapor\\Lib\\site-packages\\dask\\utils.py:78: RuntimeWarning: All-NaN slice encountered\n",
      "  return func(*args, **kwargs)\n",
      "C:\\Users\\ntr002\\.conda\\envs\\pywapor\\Lib\\site-packages\\dask\\utils.py:78: RuntimeWarning: All-NaN slice encountered\n",
      "  return func(*args, **kwargs)\n"
     ]
    },
    {
     "name": "stdout",
     "output_type": "stream",
     "text": [
      "        --> Applying 'calc_nmdi' to `nmdi`.\n"
     ]
    },
    {
     "name": "stderr",
     "output_type": "stream",
     "text": [
      "C:\\Users\\ntr002\\.conda\\envs\\pywapor\\Lib\\site-packages\\dask\\utils.py:78: RuntimeWarning: All-NaN slice encountered\n",
      "  return func(*args, **kwargs)\n",
      "C:\\Users\\ntr002\\.conda\\envs\\pywapor\\Lib\\site-packages\\dask\\utils.py:78: RuntimeWarning: All-NaN slice encountered\n",
      "  return func(*args, **kwargs)\n"
     ]
    },
    {
     "name": "stdout",
     "output_type": "stream",
     "text": [
      "        --> Applying 'gap_fill' to `nmdi`.\n",
      "        --> Applying 'calc_bsi' to `bsi`.\n",
      "        --> Applying 'gap_fill' to `bsi`.\n"
     ]
    },
    {
     "name": "stderr",
     "output_type": "stream",
     "text": [
      "C:\\Users\\ntr002\\.conda\\envs\\pywapor\\Lib\\site-packages\\dask\\utils.py:78: RuntimeWarning: All-NaN slice encountered\n",
      "  return func(*args, **kwargs)\n",
      "C:\\Users\\ntr002\\.conda\\envs\\pywapor\\Lib\\site-packages\\dask\\utils.py:78: RuntimeWarning: All-NaN slice encountered\n",
      "  return func(*args, **kwargs)\n"
     ]
    },
    {
     "name": "stdout",
     "output_type": "stream",
     "text": [
      "        --> Applying 'calc_normalized_difference' to `mndwi`.\n"
     ]
    },
    {
     "name": "stderr",
     "output_type": "stream",
     "text": [
      "C:\\Users\\ntr002\\.conda\\envs\\pywapor\\Lib\\site-packages\\dask\\utils.py:78: RuntimeWarning: All-NaN slice encountered\n",
      "  return func(*args, **kwargs)\n",
      "C:\\Users\\ntr002\\.conda\\envs\\pywapor\\Lib\\site-packages\\dask\\utils.py:78: RuntimeWarning: All-NaN slice encountered\n",
      "  return func(*args, **kwargs)\n"
     ]
    },
    {
     "name": "stdout",
     "output_type": "stream",
     "text": [
      "        --> Applying 'gap_fill' to `mndwi`.\n",
      "        --> Applying 'calc_vari_red_egde' to `vari_red_edge`.\n",
      "        --> Applying 'gap_fill' to `vari_red_edge`.\n"
     ]
    },
    {
     "name": "stderr",
     "output_type": "stream",
     "text": [
      "C:\\Users\\ntr002\\.conda\\envs\\pywapor\\Lib\\site-packages\\dask\\utils.py:78: RuntimeWarning: All-NaN slice encountered\n",
      "  return func(*args, **kwargs)\n",
      "C:\\Users\\ntr002\\.conda\\envs\\pywapor\\Lib\\site-packages\\dask\\utils.py:78: RuntimeWarning: All-NaN slice encountered\n",
      "  return func(*args, **kwargs)\n"
     ]
    },
    {
     "name": "stdout",
     "output_type": "stream",
     "text": [
      "        --> Applying 'calc_psri' to `psri`.\n"
     ]
    },
    {
     "name": "stderr",
     "output_type": "stream",
     "text": [
      "C:\\Users\\ntr002\\.conda\\envs\\pywapor\\Lib\\site-packages\\dask\\utils.py:78: RuntimeWarning: All-NaN slice encountered\n",
      "  return func(*args, **kwargs)\n",
      "C:\\Users\\ntr002\\.conda\\envs\\pywapor\\Lib\\site-packages\\dask\\utils.py:78: RuntimeWarning: All-NaN slice encountered\n",
      "  return func(*args, **kwargs)\n"
     ]
    },
    {
     "name": "stdout",
     "output_type": "stream",
     "text": [
      "        --> Applying 'gap_fill' to `nir`.\n",
      "        --> Applying 'gap_fill' to `green`.\n"
     ]
    },
    {
     "name": "stderr",
     "output_type": "stream",
     "text": [
      "C:\\Users\\ntr002\\.conda\\envs\\pywapor\\Lib\\site-packages\\dask\\utils.py:78: RuntimeWarning: All-NaN slice encountered\n",
      "  return func(*args, **kwargs)\n",
      "C:\\Users\\ntr002\\.conda\\envs\\pywapor\\Lib\\site-packages\\dask\\utils.py:78: RuntimeWarning: All-NaN slice encountered\n",
      "  return func(*args, **kwargs)\n",
      "C:\\Users\\ntr002\\.conda\\envs\\pywapor\\Lib\\site-packages\\dask\\utils.py:78: RuntimeWarning: All-NaN slice encountered\n",
      "  return func(*args, **kwargs)\n",
      "C:\\Users\\ntr002\\.conda\\envs\\pywapor\\Lib\\site-packages\\dask\\utils.py:78: RuntimeWarning: All-NaN slice encountered\n",
      "  return func(*args, **kwargs)\n"
     ]
    },
    {
     "name": "stdout",
     "output_type": "stream",
     "text": [
      "        --> Merging files.\n",
      "            > peak-memory-usage: 230.0MB, execution-time: 0:00:02.873001.\n",
      "            > chunksize|dimsize: [time: 1|2, y: 452|452, x: 759|759], crs: EPSG:4326\n",
      "            > timesize: 2 [2023-02-26T08:09, ..., 2023-03-03T08:08]\n",
      "    --> Collecting `p` from `CHIRPS.P05`.\n"
     ]
    },
    {
     "name": "stderr",
     "output_type": "stream",
     "text": [
      "                                        "
     ]
    },
    {
     "name": "stdout",
     "output_type": "stream",
     "text": [
      "        --> Saving merged data.\n"
     ]
    },
    {
     "name": "stderr",
     "output_type": "stream",
     "text": [
      "\r"
     ]
    },
    {
     "name": "stdout",
     "output_type": "stream",
     "text": [
      "            > peak-memory-usage: 97.8KB, execution-time: 0:00:02.084226.\n",
      "            > chunksize|dimsize: [time: 9|9, y: 4|4, x: 5|5], crs: EPSG:4326\n",
      "            > timesize: 9 [2023-02-26T00:30, ..., 2023-03-06T00:30]\n",
      "    --> Collecting `z`, `slope`, `aspect` from `SRTM.30M`.\n"
     ]
    },
    {
     "name": "stderr",
     "output_type": "stream",
     "text": [
      "                                               "
     ]
    },
    {
     "name": "stdout",
     "output_type": "stream",
     "text": [
      "        --> Applying 'calc_slope_or_aspect' to `slope`.\n"
     ]
    },
    {
     "name": "stderr",
     "output_type": "stream",
     "text": [
      "\r"
     ]
    },
    {
     "name": "stdout",
     "output_type": "stream",
     "text": [
      "            --> Generating slope input file.\n",
      "                > peak-memory-usage: 581.9KB, execution-time: 0:00:02.073364.\n",
      "                > chunksize|dimsize: [time: 1|1, y: 301|301, x: 504|504], crs: EPSG:4326\n",
      "        --> Applying 'calc_slope_or_aspect' to `aspect`.\n",
      "            --> Generating aspect input file.\n",
      "                > peak-memory-usage: 2.5MB, execution-time: 0:00:02.072411.\n",
      "                > chunksize|dimsize: [time: 1|1, y: 301|301, x: 504|504], crs: EPSG:4326\n",
      "        --> Saving merged data.\n",
      "            > peak-memory-usage: 6.4MB, execution-time: 0:00:02.149070.\n",
      "            > chunksize|dimsize: [time: 1|1, y: 301|301, x: 504|504], crs: EPSG:4326\n",
      "            > timesize: 1 [2000-02-11T00:00, ..., 2000-02-11T00:00]\n",
      "    --> Collecting `ra_flat` from `MERRA2.M2T1NXRAD.5.12.4`.\n"
     ]
    },
    {
     "name": "stderr",
     "output_type": "stream",
     "text": [
      "                                                              "
     ]
    },
    {
     "name": "stdout",
     "output_type": "stream",
     "text": [
      "        --> Saving merged data.\n"
     ]
    },
    {
     "name": "stderr",
     "output_type": "stream",
     "text": [
      "\r"
     ]
    },
    {
     "name": "stdout",
     "output_type": "stream",
     "text": [
      "            > peak-memory-usage: 177.9KB, execution-time: 0:00:02.067274.\n",
      "            > chunksize|dimsize: [time: 216|216, y: 2|2, x: 2|2], crs: EPSG:4326\n",
      "            > timesize: 216 [2023-02-26T01:00, ..., 2023-03-07T00:00]\n",
      "    --> Collecting `u2m`, `v2m`, `p_air`, `p_air_0`, `t_air`, `t_air_min`, `t_air_max`, `qv`, `wv` from `GEOS5.inst3_2d_asm_Nx`.\n",
      "        --> Applying 'pa_to_kpa' to `p_air`.\n",
      "        --> Applying 'pa_to_kpa' to `p_air_0`.\n",
      "        --> Applying 'kelvin_to_celsius' to `t_air`.\n",
      "        --> Applying 'kelvin_to_celsius' to `t_air_min`.\n",
      "        --> Applying 'kelvin_to_celsius' to `t_air_max`.\n",
      "        --> Saving netCDF.\n",
      "            > peak-memory-usage: 1.4MB, execution-time: 0:00:02.391938.\n",
      "            > chunksize|dimsize: [time: 65|65, y: 2|2, x: 2|2], crs: EPSG:4326\n",
      "            > timesize: 65 [2023-02-26T01:30, ..., 2023-03-06T01:30]\n",
      "    --> Collecting `rn_offset`, `rn_slope`, `t_amp`, `t_opt`, `vpd_slope`, `lw_offset`, `lw_slope` from `STATICS.WaPOR3`.\n",
      "        --> Saving WaPOR3.nc.\n",
      "            > peak-memory-usage: 1.2MB, execution-time: 0:00:02.279629.\n",
      "            > chunksize|dimsize: [y: 3|3, x: 3|3], crs: EPSG:4326\n",
      "\u001b[30;41m    --> No files found (yet) at `Test_case\\se_root_out*.nc`.\u001b[0m\n",
      "< DOWNLOADER\n"
     ]
    }
   ],
   "source": [
    "datasets = project.download_data()"
   ]
  },
  {
   "cell_type": "code",
   "execution_count": 6,
   "id": "9b7fb5d2-f9da-4c15-9e3d-f627c82e1c78",
   "metadata": {},
   "outputs": [
    {
     "name": "stdout",
     "output_type": "stream",
     "text": [
      "> PRE_SE_ROOT\n",
      "    --> Collecting `lst` from `MODIS.MOD11A1.061`.\n",
      "            > timesize: 4 [2023-03-01T10:36, ..., 2023-03-03T10:18]\n",
      "    --> Collecting `lst` from `MODIS.MYD11A1.061`.\n",
      "            > timesize: 2 [2023-03-01T13:06, ..., 2023-03-02T13:48]\n",
      "    --> Collecting `ndvi`, `mndwi`, `psri`, `vari_red_edge`, `bsi`, `nmdi`, `green`, `nir` from `SENTINEL2.S2MSI2A_R20m`.\n",
      "            > timesize: 2 [2023-02-26T08:09, ..., 2023-03-03T08:08]\n",
      "    --> Collecting `u2m`, `v2m`, `p_air`, `p_air_0`, `t_air`, `wv`, `qv` from `GEOS5.inst3_2d_asm_Nx`.\n",
      "            > timesize: 65 [2023-02-26T01:30, ..., 2023-03-06T01:30]\n",
      "    --> Aligning to times of `lst`.\n",
      "    --> Spatially aligning 2 `lst` products together.\n",
      "        --> Using `MYD11A1.061.nc` as reprojecting example.\n",
      "            > shape: (14, 21), res: 0.0080° x 0.0080°.\n",
      "    --> Aligning times in `lst` (6) with `lst` (6, linear).\n",
      "        > peak-memory-usage: 86.3KB, execution-time: 0:00:02.071214.\n",
      "        > chunksize|dimsize: [time: 6|6, y: 14|14, x: 21|21], crs: EPSG:4326\n",
      "        > shape: (6, 14, 21), kwargs: [].\n",
      "    --> Aligning times in `bsi` (2) with `lst` (6, linear).\n",
      "        > peak-memory-usage: 70.0MB, execution-time: 0:00:16.422705.\n",
      "        > chunksize|dimsize: [time: 6|6, y: 452|452, x: 500|759], crs: EPSG:4326\n",
      "        > shape: (6, 452, 759), kwargs: [].\n",
      "    --> Aligning times in `green` (2) with `lst` (6, linear).\n",
      "        > peak-memory-usage: 70.0MB, execution-time: 0:00:16.350427.\n",
      "        > chunksize|dimsize: [time: 6|6, y: 452|452, x: 500|759], crs: EPSG:4326\n",
      "        > shape: (6, 452, 759), kwargs: [].\n",
      "    --> Aligning times in `mndwi` (2) with `lst` (6, linear).\n",
      "        > peak-memory-usage: 70.0MB, execution-time: 0:00:16.330768.\n",
      "        > chunksize|dimsize: [time: 6|6, y: 452|452, x: 500|759], crs: EPSG:4326\n",
      "        > shape: (6, 452, 759), kwargs: [].\n",
      "    --> Aligning times in `ndvi` (2) with `lst` (6, linear).\n",
      "        > peak-memory-usage: 70.0MB, execution-time: 0:00:16.273503.\n",
      "        > chunksize|dimsize: [time: 6|6, y: 452|452, x: 500|759], crs: EPSG:4326\n",
      "        > shape: (6, 452, 759), kwargs: [].\n",
      "    --> Aligning times in `nir` (2) with `lst` (6, linear).\n",
      "        > peak-memory-usage: 70.0MB, execution-time: 0:00:16.288054.\n",
      "        > chunksize|dimsize: [time: 6|6, y: 452|452, x: 500|759], crs: EPSG:4326\n",
      "        > shape: (6, 452, 759), kwargs: [].\n",
      "    --> Aligning times in `nmdi` (2) with `lst` (6, linear).\n",
      "        > peak-memory-usage: 70.0MB, execution-time: 0:00:16.298160.\n",
      "        > chunksize|dimsize: [time: 6|6, y: 452|452, x: 500|759], crs: EPSG:4326\n",
      "        > shape: (6, 452, 759), kwargs: [].\n",
      "    --> Aligning times in `p_air` (65) with `lst` (6, linear).\n",
      "        > peak-memory-usage: 358.8KB, execution-time: 0:00:02.054030.\n",
      "        > chunksize|dimsize: [time: 6|6, y: 2|2, x: 2|2], crs: EPSG:4326\n",
      "        > shape: (6, 2, 2), kwargs: [].\n",
      "    --> Aligning times in `p_air_0` (65) with `lst` (6, linear).\n",
      "        > peak-memory-usage: 352.2KB, execution-time: 0:00:02.122240.\n",
      "        > chunksize|dimsize: [time: 6|6, y: 2|2, x: 2|2], crs: EPSG:4326\n",
      "        > shape: (6, 2, 2), kwargs: [].\n",
      "    --> Aligning times in `psri` (2) with `lst` (6, linear).\n",
      "        > peak-memory-usage: 70.0MB, execution-time: 0:00:16.367687.\n",
      "        > chunksize|dimsize: [time: 6|6, y: 452|452, x: 500|759], crs: EPSG:4326\n",
      "        > shape: (6, 452, 759), kwargs: [].\n",
      "    --> Aligning times in `qv` (65) with `lst` (6, linear).\n",
      "        > peak-memory-usage: 360.8KB, execution-time: 0:00:02.112464.\n",
      "        > chunksize|dimsize: [time: 6|6, y: 2|2, x: 2|2], crs: EPSG:4326\n",
      "        > shape: (6, 2, 2), kwargs: [].\n",
      "    --> Aligning times in `t_air` (65) with `lst` (6, linear).\n",
      "        > peak-memory-usage: 360.3KB, execution-time: 0:00:02.074177.\n",
      "        > chunksize|dimsize: [time: 6|6, y: 2|2, x: 2|2], crs: EPSG:4326\n",
      "        > shape: (6, 2, 2), kwargs: [].\n",
      "    --> Aligning times in `u2m` (65) with `lst` (6, linear).\n",
      "        > peak-memory-usage: 361.1KB, execution-time: 0:00:02.076014.\n",
      "        > chunksize|dimsize: [time: 6|6, y: 2|2, x: 2|2], crs: EPSG:4326\n",
      "        > shape: (6, 2, 2), kwargs: [].\n",
      "    --> Aligning times in `v2m` (65) with `lst` (6, linear).\n",
      "        > peak-memory-usage: 358.6KB, execution-time: 0:00:02.072499.\n",
      "        > chunksize|dimsize: [time: 6|6, y: 2|2, x: 2|2], crs: EPSG:4326\n",
      "        > shape: (6, 2, 2), kwargs: [].\n",
      "    --> Aligning times in `vari_red_edge` (2) with `lst` (6, linear).\n",
      "        > peak-memory-usage: 70.0MB, execution-time: 0:00:16.335209.\n",
      "        > chunksize|dimsize: [time: 6|6, y: 452|452, x: 500|759], crs: EPSG:4326\n",
      "        > shape: (6, 452, 759), kwargs: [].\n",
      "    --> Aligning times in `wv` (65) with `lst` (6, linear).\n",
      "        > peak-memory-usage: 362.2KB, execution-time: 0:00:02.048512.\n",
      "        > chunksize|dimsize: [time: 6|6, y: 2|2, x: 2|2], crs: EPSG:4326\n",
      "        > shape: (6, 2, 2), kwargs: [].\n",
      "    --> Sharpening 6 `lst` images.\n",
      "        --> (1/6) Sharpening `lowres_input_20230301_103600.vrt` with `highres_input_20230301_103600.vrt`.\n",
      "            --> Homogeneity CV threshold: 1.10\n",
      "            --> Number of training elements for window 0 is 113, representing 52% of avaiable low-resolution data.\n",
      "            --> Low res. residual bias = 0.748 and RMSD = 2.040.\n",
      "            > peak-memory-usage: 52.0MB, execution-time: 0:00:07.529418.\n",
      "        --> (2/6) Sharpening `lowres_input_20230301_130600.vrt` with `highres_input_20230301_130600.vrt`.\n",
      "            --> Homogeneity CV threshold: 1.09\n",
      "            --> Number of training elements for window 0 is 112, representing 51% of avaiable low-resolution data.\n",
      "            --> Low res. residual bias = 0.243 and RMSD = 2.008.\n",
      "            > peak-memory-usage: 56.5MB, execution-time: 0:00:02.898326.\n",
      "        --> (3/6) Sharpening `lowres_input_20230302_093600.vrt` with `highres_input_20230302_093600.vrt`.\n",
      "            --> Homogeneity CV threshold: 1.11\n",
      "            --> Number of training elements for window 0 is 113, representing 52% of avaiable low-resolution data.\n",
      "            --> Low res. residual bias = 0.163 and RMSD = 0.817.\n",
      "            > peak-memory-usage: 56.5MB, execution-time: 0:00:02.845878.\n",
      "        --> (4/6) Sharpening `lowres_input_20230302_094159.vrt` with `highres_input_20230302_094159.vrt`.\n",
      "            --> Homogeneity CV threshold: 1.11\n",
      "            --> Number of training elements for window 0 is 113, representing 52% of avaiable low-resolution data.\n",
      "            --> Low res. residual bias = 0.310 and RMSD = 0.893.\n",
      "            > peak-memory-usage: 56.3MB, execution-time: 0:00:03.038331.\n",
      "        --> (5/6) Sharpening `lowres_input_20230302_134800.vrt` with `highres_input_20230302_134800.vrt`.\n",
      "            --> Homogeneity CV threshold: 1.12\n",
      "            --> Number of training elements for window 0 is 112, representing 51% of avaiable low-resolution data.\n",
      "            --> Low res. residual bias = -0.374 and RMSD = 3.033.\n",
      "            > peak-memory-usage: 56.3MB, execution-time: 0:00:03.180923.\n",
      "        --> (6/6) Sharpening `lowres_input_20230303_101800.vrt` with `highres_input_20230303_101800.vrt`.\n",
      "            --> Homogeneity CV threshold: 0.00\n",
      "            --> Number of training elements for window 0 is 0, representing 0% of avaiable low-resolution data.\n",
      "            --> Low res. residual bias = nan and RMSD = nan.\n",
      "            > peak-memory-usage: 24.1MB, execution-time: 0:00:01.879736.\n",
      "    --> Merging sharpened `lst` files.\n",
      "        > peak-memory-usage: 47.1MB, execution-time: 0:00:02.407747.\n",
      "        > chunksize|dimsize: [time: 6|6, y: 452|452, x: 759|759], crs: EPSG:4326\n",
      "    --> Using `S2MSI2A_R20m.nc` as reprojecting example.\n",
      "        > shape: (452, 759), res: 0.0002° x 0.0002°.\n",
      "    --> Selected `reproject_chunk` for reprojection of p_air_i.nc.\n",
      "        --> Warping VRT to netCDF.\n",
      "            > peak-memory-usage: 4.8KB, execution-time: 0:00:00.162393.\n",
      "        --> Saving reprojected data from p_air_i.nc:p_air (bilinear).\n",
      "            > peak-memory-usage: 78.5MB, execution-time: 0:00:02.248176.\n",
      "            > chunksize|dimsize: [time: 6|6, y: 452|452, x: 759|759], crs: EPSG:4326\n",
      "    --> Selected `reproject_chunk` for reprojection of p_air_0_i.nc.\n",
      "        --> Warping VRT to netCDF.\n",
      "            > peak-memory-usage: 5.8KB, execution-time: 0:00:00.147347.\n",
      "        --> Saving reprojected data from p_air_0_i.nc:p_air_0 (bilinear).\n",
      "            > peak-memory-usage: 78.5MB, execution-time: 0:00:02.235656.\n",
      "            > chunksize|dimsize: [time: 6|6, y: 452|452, x: 759|759], crs: EPSG:4326\n",
      "    --> Selected `reproject_chunk` for reprojection of qv_i.nc.\n",
      "        --> Warping VRT to netCDF.\n",
      "            > peak-memory-usage: 4.5KB, execution-time: 0:00:00.167093.\n",
      "        --> Saving reprojected data from qv_i.nc:qv (bilinear).\n",
      "            > peak-memory-usage: 78.5MB, execution-time: 0:00:02.156568.\n",
      "            > chunksize|dimsize: [time: 6|6, y: 452|452, x: 759|759], crs: EPSG:4326\n",
      "    --> Selected `reproject_chunk` for reprojection of t_air_i.nc.\n",
      "        --> Warping VRT to netCDF.\n",
      "            > peak-memory-usage: 5.1KB, execution-time: 0:00:00.159475.\n",
      "        --> Saving reprojected data from t_air_i.nc:t_air (bilinear).\n",
      "            > peak-memory-usage: 78.5MB, execution-time: 0:00:02.211334.\n",
      "            > chunksize|dimsize: [time: 6|6, y: 452|452, x: 759|759], crs: EPSG:4326\n",
      "    --> Selected `reproject_chunk` for reprojection of u2m_i.nc.\n",
      "        --> Warping VRT to netCDF.\n",
      "            > peak-memory-usage: 4.9KB, execution-time: 0:00:00.160917.\n",
      "        --> Saving reprojected data from u2m_i.nc:u2m (bilinear).\n",
      "            > peak-memory-usage: 78.5MB, execution-time: 0:00:02.244393.\n",
      "            > chunksize|dimsize: [time: 6|6, y: 452|452, x: 759|759], crs: EPSG:4326\n",
      "    --> Selected `reproject_chunk` for reprojection of v2m_i.nc.\n",
      "        --> Warping VRT to netCDF.\n",
      "            > peak-memory-usage: 4.5KB, execution-time: 0:00:00.177194.\n",
      "        --> Saving reprojected data from v2m_i.nc:v2m (bilinear).\n",
      "            > peak-memory-usage: 78.5MB, execution-time: 0:00:02.169850.\n",
      "            > chunksize|dimsize: [time: 6|6, y: 452|452, x: 759|759], crs: EPSG:4326\n",
      "    --> Selected `reproject_chunk` for reprojection of wv_i.nc.\n",
      "        --> Warping VRT to netCDF.\n",
      "            > peak-memory-usage: 5.1KB, execution-time: 0:00:00.168316.\n",
      "        --> Saving reprojected data from wv_i.nc:wv (bilinear).\n",
      "            > peak-memory-usage: 78.5MB, execution-time: 0:00:02.185986.\n",
      "            > chunksize|dimsize: [time: 6|6, y: 452|452, x: 759|759], crs: EPSG:4326\n",
      "    --> Applying 'rename_meteo'.\n",
      "    --> Applying 'remove_empty_statics'.\n",
      "    --> Applying 'add_constants_new'.\n",
      "    --> Applying 'bt_to_lst'.\n",
      "    --> Applying 'drop_empty_times'.\n",
      "    --> Creating merged file `se_root_in.nc`.\n",
      "        > peak-memory-usage: 443.7MB, execution-time: 0:00:02.958569.\n",
      "        > chunksize|dimsize: [time: 5|5, y: 452|452, x: 759|759], crs: EPSG:4326\n",
      "< PRE_SE_ROOT (0:03:12.198535)\n"
     ]
    }
   ],
   "source": [
    "se_root_in = project.run_pre_se_root()"
   ]
  },
  {
   "cell_type": "code",
   "execution_count": 7,
   "id": "2d948109-40bf-4767-a9c1-7ad018c4e700",
   "metadata": {},
   "outputs": [
    {
     "name": "stdout",
     "output_type": "stream",
     "text": [
      "> SE_ROOT\n",
      "    --> Running `se_root` (v3).\n",
      "        --> Calculating `seasonal_correction`.\n",
      "        --> Calculating `declination`.\n",
      "        --> Calculating `day_angle`.\n",
      "        --> Calculating `air_pressure_kpa2mbar`.\n",
      "        --> Calculating `air_pressure_kpa2mbar`.\n",
      "        --> Calculating `vegetation_cover`.\n",
      "        --> Calculating `air_temperature_kelvin_inst`.\n",
      "        --> Calculating `air_temperature_kelvin`.\n",
      "        --> Calculating `vapour_pressure_from_specific_humidity_inst`.\n",
      "        --> Calculating `vapour_pressure_from_specific_humidity`.\n",
      "        --> Calculating `specific_humidity_from_vapour_pressure`.\n",
      "        --> Calculating `moist_air_density_inst`.\n",
      "        --> Calculating `moist_air_density`.\n",
      "        --> Calculating `dry_air_density_inst`.\n",
      "        --> Calculating `dry_air_density`.\n",
      "        --> Calculating `air_density_inst`.\n",
      "        --> Calculating `air_density`.\n",
      "        --> Calculating `wind_speed_blending_height_bare`.\n",
      "        --> Calculating `longitude_rad`.\n",
      "        --> Calculating `latitude_rad`.\n",
      "        --> Calculating `inverse_earth_sun_distance`.\n",
      "        --> Calculating `solar_elevation_angle`.\n",
      "        --> Calculating `solar_elevation_angle_refracted`.\n",
      "        --> Calculating `relative_optical_airmass`.\n",
      "        --> Calculating `rayleigh_optical_thickness`.\n",
      "        --> Calculating `linke_turbidity`.\n",
      "        --> Calculating `extraterrestrial_irradiance_normal`.\n",
      "        --> Calculating `beam_irradiance_normal_clear`.\n",
      "        --> Calculating `beam_irradiance_horizontal_clear`.\n",
      "        --> Calculating `diffuse_irradiance_horizontal_clear`.\n",
      "        --> Calculating `ra_clear_horizontal`.\n",
      "        --> Calculating `atmospheric_emissivity_inst`.\n",
      "        --> Calculating `net_radiation_bare`.\n",
      "        --> Calculating `net_radiation_full`.\n",
      "        --> Calculating `sensible_heat_flux_bare`.\n",
      "        --> Calculating `sensible_heat_flux_full`.\n",
      "        --> Calculating `wind_speed_blending_height_full_inst`.\n",
      "        --> Calculating `friction_velocity_bare_inst`.\n",
      "        --> Calculating `friction_velocity_full_inst`.\n",
      "        --> Calculating `monin_obukhov_length_bare`.\n",
      "        --> Calculating `monin_obukhov_length_full`.\n",
      "        --> Calculating `wind_speed_soil_inst`.\n",
      "        --> Calculating `psi_m`.\n",
      "        --> Calculating `aerodynamical_resistance_forced_convection_soil`.\n",
      "        --> Calculating `aerodynamical_resistance_forced_convection_bare`.\n",
      "        --> Calculating `psi_m`.\n",
      "        --> Calculating `psi_h`.\n",
      "        --> Calculating `aerodynamical_resistance_forced_convection_full`.\n",
      "        --> Calculating `psi_m`.\n",
      "        --> Calculating `psi_m`.\n",
      "        --> Calculating `psi_h`.\n",
      "        --> Calculating `psi_h`.\n",
      "        --> Calculating `aerodynamical_resistance_free_convection_bare`.\n",
      "        --> Calculating `aerodynamical_resistance_free_convection_full`.\n",
      "        --> Calculating `aerodynamical_resistance_bare`.\n",
      "        --> Calculating `aerodynamical_resistance_full`.\n",
      "        --> Calculating `maximum_temperature_bare`.\n",
      "        --> Calculating `maximum_temperature_full`.\n",
      "        --> Calculating `wet_bulb_temperature_inst_new`.\n",
      "        --> Calculating `maximum_temperature`.\n",
      "        --> Calculating `wet_bulb_temperature_kelvin_inst`.\n",
      "        --> Calculating `air_temperature_kelvin`.\n",
      "        --> Calculating `minimum_temperature`.\n",
      "        --> Calculating `soil_moisture_from_maximum_temperature`.\n",
      "    --> Saving output to `se_root_out.nc`.\n",
      "        > peak-memory-usage: 1.0GB, execution-time: 0:00:04.482666.\n",
      "        > chunksize|dimsize: [time: 5|5, y: 452|452, x: 500|759], crs: EPSG:4326\n",
      "< SE_ROOT (0:00:05.234146)\n"
     ]
    }
   ],
   "source": [
    "se_root = project.run_se_root()"
   ]
  },
  {
   "cell_type": "code",
   "execution_count": 8,
   "id": "2ee40f79-1290-468f-ba95-848b3d089bd3",
   "metadata": {},
   "outputs": [
    {
     "name": "stdout",
     "output_type": "stream",
     "text": [
      "--> lonlim: [33.14794294980606, 33.287491846562524]\n",
      "--> latlim: [14.265710097119845, 14.348773479949276]\n",
      "--> timelim: [datetime.datetime(2023, 3, 1, 0, 0), datetime.datetime(2023, 3, 2, 0, 0)]\n",
      "> PRE_ET_LOOK\n",
      "    --> Collecting `ndvi`, `r0` from `SENTINEL2.S2MSI2A_R20m`.\n",
      "            > timesize: 2 [2023-02-26T08:09, ..., 2023-03-03T08:08]\n",
      "    --> Collecting `p` from `CHIRPS.P05`.\n",
      "            > timesize: 9 [2023-02-26T00:30, ..., 2023-03-06T00:30]\n",
      "    --> Collecting `z`, `slope`, `aspect` from `SRTM.30M`.\n",
      "            > timesize: 1 [2000-02-11T00:00, ..., 2000-02-11T00:00]\n",
      "    --> Collecting `ra_flat` from `MERRA2.M2T1NXRAD.5.12.4`.\n",
      "            > timesize: 216 [2023-02-26T01:00, ..., 2023-03-07T00:00]\n",
      "    --> Collecting `u2m`, `v2m`, `p_air`, `p_air_0`, `t_air`, `t_air_min`, `t_air_max`, `qv` from `GEOS5.inst3_2d_asm_Nx`.\n",
      "            > timesize: 65 [2023-02-26T01:30, ..., 2023-03-06T01:30]\n",
      "    --> Collecting `rn_offset`, `rn_slope`, `t_amp`, `t_opt`, `vpd_slope`, `lw_offset`, `lw_slope` from `STATICS.WaPOR3`.\n",
      "    --> Collecting `se_root` from `se_root_out.nc`.\n",
      "        > timesize: 5 [2023-03-01T10:36, ..., 2023-03-02T13:48]\n",
      "    --> Compositing 23 variables.\n",
      "        --> (1/23) Compositing `ndvi` (mean).\n",
      "            --> Saving `ndvi` composites.\n",
      "                > peak-memory-usage: 39.3MB, execution-time: 0:00:12.146872.\n",
      "                > chunksize|dimsize: [time_bins: 2|2, y: 452|452, x: 759|759], crs: EPSG:4326\n",
      "        --> (2/23) Compositing `r0` (mean).\n",
      "            --> Saving `r0` composites.\n",
      "                > peak-memory-usage: 41.9MB, execution-time: 0:00:12.087687.\n",
      "                > chunksize|dimsize: [time_bins: 2|2, y: 452|452, x: 759|759], crs: EPSG:4326\n",
      "        --> (3/23) Compositing `se_root` (mean).\n",
      "            --> Saving `se_root` composites.\n",
      "                > peak-memory-usage: 48.8MB, execution-time: 0:00:08.110261.\n",
      "                > chunksize|dimsize: [time_bins: 2|2, y: 452|452, x: 759|759], crs: EPSG:4326\n",
      "        --> (4/23) Compositing `p` (mean).\n",
      "            --> Saving `p` composites.\n",
      "                > peak-memory-usage: 13.3KB, execution-time: 0:00:02.084076.\n",
      "                > chunksize|dimsize: [time_bins: 2|2, y: 4|4, x: 5|5], crs: EPSG:4326\n",
      "        --> (5/23) Compositing `z` (mean).\n",
      "            --> Saving `z` composites.\n",
      "                > peak-memory-usage: 4.6MB, execution-time: 0:00:02.109510.\n",
      "                > chunksize|dimsize: [y: 301|301, x: 504|504], crs: EPSG:4326\n",
      "        --> (6/23) Compositing `slope` (mean).\n",
      "            --> Saving `slope` composites.\n",
      "                > peak-memory-usage: 14.2MB, execution-time: 0:00:02.084307.\n",
      "                > chunksize|dimsize: [y: 301|301, x: 504|504], crs: EPSG:4326\n",
      "        --> (7/23) Compositing `aspect` (mean).\n",
      "            --> Saving `aspect` composites.\n",
      "                > peak-memory-usage: 14.2MB, execution-time: 0:00:02.068242.\n",
      "                > chunksize|dimsize: [y: 301|301, x: 504|504], crs: EPSG:4326\n",
      "        --> (8/23) Compositing `ra_flat` (mean).\n",
      "            --> Saving `ra_flat` composites.\n",
      "                > peak-memory-usage: 28.2KB, execution-time: 0:00:02.066871.\n",
      "                > chunksize|dimsize: [time_bins: 2|2, y: 2|2, x: 2|2], crs: EPSG:4326\n",
      "        --> (9/23) Compositing `u2m` (mean).\n",
      "            --> Saving `u2m` composites.\n",
      "                > peak-memory-usage: 13.6KB, execution-time: 0:00:02.097132.\n",
      "                > chunksize|dimsize: [time_bins: 2|2, y: 2|2, x: 2|2], crs: EPSG:4326\n",
      "        --> (10/23) Compositing `v2m` (mean).\n",
      "            --> Saving `v2m` composites.\n",
      "                > peak-memory-usage: 13.4KB, execution-time: 0:00:02.066629.\n",
      "                > chunksize|dimsize: [time_bins: 2|2, y: 2|2, x: 2|2], crs: EPSG:4326\n",
      "        --> (11/23) Compositing `p_air` (mean).\n",
      "            --> Saving `p_air` composites.\n",
      "                > peak-memory-usage: 13.6KB, execution-time: 0:00:02.080600.\n",
      "                > chunksize|dimsize: [time_bins: 2|2, y: 2|2, x: 2|2], crs: EPSG:4326\n",
      "        --> (12/23) Compositing `p_air_0` (mean).\n",
      "            --> Saving `p_air_0` composites.\n",
      "                > peak-memory-usage: 13.7KB, execution-time: 0:00:02.085756.\n",
      "                > chunksize|dimsize: [time_bins: 2|2, y: 2|2, x: 2|2], crs: EPSG:4326\n",
      "        --> (13/23) Compositing `t_air` (mean).\n",
      "            --> Saving `t_air` composites.\n",
      "                > peak-memory-usage: 13.4KB, execution-time: 0:00:02.086452.\n",
      "                > chunksize|dimsize: [time_bins: 2|2, y: 2|2, x: 2|2], crs: EPSG:4326\n",
      "        --> (14/23) Compositing `t_air_min` (min).\n",
      "            --> Saving `t_air_min` composites.\n",
      "                > peak-memory-usage: 13.4KB, execution-time: 0:00:02.070430.\n",
      "                > chunksize|dimsize: [time_bins: 2|2, y: 2|2, x: 2|2], crs: EPSG:4326\n",
      "        --> (15/23) Compositing `t_air_max` (max).\n",
      "            --> Saving `t_air_max` composites.\n",
      "                > peak-memory-usage: 13.5KB, execution-time: 0:00:02.076530.\n",
      "                > chunksize|dimsize: [time_bins: 2|2, y: 2|2, x: 2|2], crs: EPSG:4326\n",
      "        --> (16/23) Compositing `qv` (mean).\n",
      "            --> Saving `qv` composites.\n",
      "                > peak-memory-usage: 13.4KB, execution-time: 0:00:02.055878.\n",
      "                > chunksize|dimsize: [time_bins: 2|2, y: 2|2, x: 2|2], crs: EPSG:4326\n",
      "        --> (17/23) Compositing `rn_offset` (mean).\n",
      "            --> Saving `rn_offset` composites.\n",
      "                > peak-memory-usage: 20.5KB, execution-time: 0:00:02.067388.\n",
      "                > chunksize|dimsize: [y: 3|3, x: 3|3], crs: EPSG:4326\n",
      "        --> (18/23) Compositing `rn_slope` (mean).\n",
      "            --> Saving `rn_slope` composites.\n",
      "                > peak-memory-usage: 9.6KB, execution-time: 0:00:02.048879.\n",
      "                > chunksize|dimsize: [y: 3|3, x: 3|3], crs: EPSG:4326\n",
      "        --> (19/23) Compositing `t_amp` (mean).\n",
      "            --> Saving `t_amp` composites.\n",
      "                > peak-memory-usage: 9.6KB, execution-time: 0:00:02.068909.\n",
      "                > chunksize|dimsize: [y: 3|3, x: 3|3], crs: EPSG:4326\n",
      "        --> (20/23) Compositing `t_opt` (mean).\n",
      "            --> Saving `t_opt` composites.\n",
      "                > peak-memory-usage: 9.1KB, execution-time: 0:00:02.067684.\n",
      "                > chunksize|dimsize: [y: 3|3, x: 3|3], crs: EPSG:4326\n",
      "        --> (21/23) Compositing `vpd_slope` (mean).\n",
      "            --> Saving `vpd_slope` composites.\n",
      "                > peak-memory-usage: 9.9KB, execution-time: 0:00:02.066083.\n",
      "                > chunksize|dimsize: [y: 3|3, x: 3|3], crs: EPSG:4326\n",
      "        --> (22/23) Compositing `lw_offset` (mean).\n",
      "            --> Saving `lw_offset` composites.\n",
      "                > peak-memory-usage: 8.4KB, execution-time: 0:00:02.046590.\n",
      "                > chunksize|dimsize: [y: 3|3, x: 3|3], crs: EPSG:4326\n",
      "        --> (23/23) Compositing `lw_slope` (mean).\n",
      "            --> Saving `lw_slope` composites.\n",
      "                > peak-memory-usage: 9.0KB, execution-time: 0:00:02.061629.\n",
      "                > chunksize|dimsize: [y: 3|3, x: 3|3], crs: EPSG:4326\n",
      "    --> Using `S2MSI2A_R20m.nc` as reprojecting example.\n",
      "        > shape: (452, 759), res: 0.0002° x 0.0002°.\n",
      "    --> Selected `reproject_chunk` for reprojection of p_bin.nc.\n",
      "        --> Warping VRT to netCDF.\n",
      "            > peak-memory-usage: 5.5KB, execution-time: 0:00:00.096964.\n",
      "        --> Saving reprojected data from p_bin.nc:p (bilinear).\n",
      "            > peak-memory-usage: 26.2MB, execution-time: 0:00:02.102880.\n",
      "            > chunksize|dimsize: [time_bins: 2|2, y: 452|452, x: 759|759], crs: EPSG:4326\n",
      "    --> Selected `reproject_chunk` for reprojection of z_bin.nc.\n",
      "        --> Warping VRT to netCDF.\n",
      "            > peak-memory-usage: 5.0KB, execution-time: 0:00:00.053040.\n",
      "        --> Saving reprojected data from z_bin.nc:z (bilinear).\n",
      "            > peak-memory-usage: 10.5MB, execution-time: 0:00:02.104706.\n",
      "            > chunksize|dimsize: [y: 452|452, x: 759|759], crs: EPSG:4326\n",
      "    --> Selected `reproject_chunk` for reprojection of slope_bin.nc.\n",
      "        --> Warping VRT to netCDF.\n",
      "            > peak-memory-usage: 5.0KB, execution-time: 0:00:00.053600.\n",
      "        --> Saving reprojected data from slope_bin.nc:slope (bilinear).\n",
      "            > peak-memory-usage: 10.5MB, execution-time: 0:00:02.071276.\n",
      "            > chunksize|dimsize: [y: 452|452, x: 759|759], crs: EPSG:4326\n",
      "    --> Selected `reproject_chunk` for reprojection of aspect_bin.nc.\n",
      "        --> Warping VRT to netCDF.\n",
      "            > peak-memory-usage: 5.0KB, execution-time: 0:00:00.053359.\n",
      "        --> Saving reprojected data from aspect_bin.nc:aspect (bilinear).\n",
      "            > peak-memory-usage: 10.5MB, execution-time: 0:00:02.119801.\n",
      "            > chunksize|dimsize: [y: 452|452, x: 759|759], crs: EPSG:4326\n",
      "    --> Selected `reproject_chunk` for reprojection of ra_flat_bin.nc.\n",
      "        --> Warping VRT to netCDF.\n",
      "            > peak-memory-usage: 4.9KB, execution-time: 0:00:00.064152.\n",
      "        --> Saving reprojected data from ra_flat_bin.nc:ra_flat (bilinear).\n",
      "            > peak-memory-usage: 26.2MB, execution-time: 0:00:02.100860.\n",
      "            > chunksize|dimsize: [time_bins: 2|2, y: 452|452, x: 759|759], crs: EPSG:4326\n",
      "    --> Selected `reproject_chunk` for reprojection of u2m_bin.nc.\n",
      "        --> Warping VRT to netCDF.\n",
      "            > peak-memory-usage: 4.9KB, execution-time: 0:00:00.079814.\n",
      "        --> Saving reprojected data from u2m_bin.nc:u2m (bilinear).\n",
      "            > peak-memory-usage: 26.2MB, execution-time: 0:00:02.102863.\n",
      "            > chunksize|dimsize: [time_bins: 2|2, y: 452|452, x: 759|759], crs: EPSG:4326\n",
      "    --> Selected `reproject_chunk` for reprojection of v2m_bin.nc.\n",
      "        --> Warping VRT to netCDF.\n",
      "            > peak-memory-usage: 4.9KB, execution-time: 0:00:00.078403.\n",
      "        --> Saving reprojected data from v2m_bin.nc:v2m (bilinear).\n",
      "            > peak-memory-usage: 26.2MB, execution-time: 0:00:02.138616.\n",
      "            > chunksize|dimsize: [time_bins: 2|2, y: 452|452, x: 759|759], crs: EPSG:4326\n",
      "    --> Selected `reproject_chunk` for reprojection of p_air_bin.nc.\n",
      "        --> Warping VRT to netCDF.\n",
      "            > peak-memory-usage: 4.9KB, execution-time: 0:00:00.121424.\n",
      "        --> Saving reprojected data from p_air_bin.nc:p_air (bilinear).\n",
      "            > peak-memory-usage: 26.2MB, execution-time: 0:00:02.176514.\n",
      "            > chunksize|dimsize: [time_bins: 2|2, y: 452|452, x: 759|759], crs: EPSG:4326\n",
      "    --> Selected `reproject_chunk` for reprojection of p_air_0_bin.nc.\n",
      "        --> Warping VRT to netCDF.\n",
      "            > peak-memory-usage: 4.4KB, execution-time: 0:00:00.099071.\n",
      "        --> Saving reprojected data from p_air_0_bin.nc:p_air_0 (bilinear).\n",
      "            > peak-memory-usage: 26.2MB, execution-time: 0:00:02.121018.\n",
      "            > chunksize|dimsize: [time_bins: 2|2, y: 452|452, x: 759|759], crs: EPSG:4326\n",
      "    --> Selected `reproject_chunk` for reprojection of t_air_bin.nc.\n",
      "        --> Warping VRT to netCDF.\n",
      "            > peak-memory-usage: 4.9KB, execution-time: 0:00:00.109184.\n",
      "        --> Saving reprojected data from t_air_bin.nc:t_air (bilinear).\n",
      "            > peak-memory-usage: 26.2MB, execution-time: 0:00:02.151760.\n",
      "            > chunksize|dimsize: [time_bins: 2|2, y: 452|452, x: 759|759], crs: EPSG:4326\n",
      "    --> Selected `reproject_chunk` for reprojection of t_air_min_bin.nc.\n",
      "        --> Warping VRT to netCDF.\n",
      "            > peak-memory-usage: 4.9KB, execution-time: 0:00:00.106490.\n",
      "        --> Saving reprojected data from t_air_min_bin.nc:t_air_min (bilinear).\n",
      "            > peak-memory-usage: 26.2MB, execution-time: 0:00:02.145216.\n",
      "            > chunksize|dimsize: [time_bins: 2|2, y: 452|452, x: 759|759], crs: EPSG:4326\n",
      "    --> Selected `reproject_chunk` for reprojection of t_air_max_bin.nc.\n",
      "        --> Warping VRT to netCDF.\n",
      "            > peak-memory-usage: 4.9KB, execution-time: 0:00:00.073059.\n",
      "        --> Saving reprojected data from t_air_max_bin.nc:t_air_max (bilinear).\n",
      "            > peak-memory-usage: 26.2MB, execution-time: 0:00:02.136611.\n",
      "            > chunksize|dimsize: [time_bins: 2|2, y: 452|452, x: 759|759], crs: EPSG:4326\n",
      "    --> Selected `reproject_chunk` for reprojection of qv_bin.nc.\n",
      "        --> Warping VRT to netCDF.\n",
      "            > peak-memory-usage: 4.9KB, execution-time: 0:00:00.062859.\n",
      "        --> Saving reprojected data from qv_bin.nc:qv (bilinear).\n",
      "            > peak-memory-usage: 26.2MB, execution-time: 0:00:02.099032.\n",
      "            > chunksize|dimsize: [time_bins: 2|2, y: 452|452, x: 759|759], crs: EPSG:4326\n",
      "    --> Selected `reproject_chunk` for reprojection of rn_offset_bin.nc.\n",
      "        --> Warping VRT to netCDF.\n",
      "            > peak-memory-usage: 4.9KB, execution-time: 0:00:00.047809.\n",
      "        --> Saving reprojected data from rn_offset_bin.nc:rn_offset (bilinear).\n",
      "            > peak-memory-usage: 10.5MB, execution-time: 0:00:02.086794.\n",
      "            > chunksize|dimsize: [y: 452|452, x: 759|759], crs: EPSG:4326\n",
      "    --> Selected `reproject_chunk` for reprojection of rn_slope_bin.nc.\n",
      "        --> Warping VRT to netCDF.\n",
      "            > peak-memory-usage: 4.9KB, execution-time: 0:00:00.066927.\n",
      "        --> Saving reprojected data from rn_slope_bin.nc:rn_slope (bilinear).\n",
      "            > peak-memory-usage: 10.5MB, execution-time: 0:00:02.104255.\n",
      "            > chunksize|dimsize: [y: 452|452, x: 759|759], crs: EPSG:4326\n",
      "    --> Selected `reproject_chunk` for reprojection of t_amp_bin.nc.\n",
      "        --> Warping VRT to netCDF.\n",
      "            > peak-memory-usage: 4.9KB, execution-time: 0:00:00.067559.\n",
      "        --> Saving reprojected data from t_amp_bin.nc:t_amp (bilinear).\n",
      "            > peak-memory-usage: 10.5MB, execution-time: 0:00:02.083202.\n",
      "            > chunksize|dimsize: [y: 452|452, x: 759|759], crs: EPSG:4326\n",
      "    --> Selected `reproject_chunk` for reprojection of t_opt_bin.nc.\n",
      "        --> Warping VRT to netCDF.\n",
      "            > peak-memory-usage: 4.9KB, execution-time: 0:00:00.062569.\n",
      "        --> Saving reprojected data from t_opt_bin.nc:t_opt (bilinear).\n",
      "            > peak-memory-usage: 10.5MB, execution-time: 0:00:02.080868.\n",
      "            > chunksize|dimsize: [y: 452|452, x: 759|759], crs: EPSG:4326\n",
      "    --> Selected `reproject_chunk` for reprojection of vpd_slope_bin.nc.\n",
      "        --> Warping VRT to netCDF.\n",
      "            > peak-memory-usage: 4.9KB, execution-time: 0:00:00.059837.\n",
      "        --> Saving reprojected data from vpd_slope_bin.nc:vpd_slope (bilinear).\n",
      "            > peak-memory-usage: 10.5MB, execution-time: 0:00:02.071452.\n",
      "            > chunksize|dimsize: [y: 452|452, x: 759|759], crs: EPSG:4326\n",
      "    --> Selected `reproject_chunk` for reprojection of lw_offset_bin.nc.\n",
      "        --> Warping VRT to netCDF.\n",
      "            > peak-memory-usage: 4.9KB, execution-time: 0:00:00.046921.\n",
      "        --> Saving reprojected data from lw_offset_bin.nc:lw_offset (bilinear).\n",
      "            > peak-memory-usage: 10.5MB, execution-time: 0:00:02.080226.\n",
      "            > chunksize|dimsize: [y: 452|452, x: 759|759], crs: EPSG:4326\n",
      "    --> Selected `reproject_chunk` for reprojection of lw_slope_bin.nc.\n",
      "        --> Warping VRT to netCDF.\n",
      "            > peak-memory-usage: 4.9KB, execution-time: 0:00:00.047253.\n",
      "        --> Saving reprojected data from lw_slope_bin.nc:lw_slope (bilinear).\n",
      "            > peak-memory-usage: 10.5MB, execution-time: 0:00:02.084943.\n",
      "            > chunksize|dimsize: [y: 452|452, x: 759|759], crs: EPSG:4326\n",
      "    --> Applying 'lapse_rate'.\n",
      "    --> Calculating local means (r = 0.25°) of `z`.\n",
      "    --> Applying 'rename_vars'.\n",
      "    --> Applying 'fill_attrs'.\n",
      "    --> Applying 'calc_doys'.\n",
      "    --> Applying 'remove_empty_statics'.\n",
      "    --> Applying 'add_constants_new'.\n",
      "    --> Creating merged file `et_look_in.nc`.\n",
      "        > peak-memory-usage: 123.8MB, execution-time: 0:00:03.514246.\n",
      "        > chunksize|dimsize: [time_bins: 2|2, y: 452|452, x: 759|759], crs: EPSG:4326\n",
      "< PRE_ET_LOOK (0:02:04.432699)\n"
     ]
    }
   ],
   "source": [
    "et_look_in = project.run_pre_et_look()"
   ]
  },
  {
   "cell_type": "code",
   "execution_count": 9,
   "id": "11f34255-ac5a-4b09-9344-69b73d6f63ab",
   "metadata": {},
   "outputs": [
    {
     "name": "stdout",
     "output_type": "stream",
     "text": [
      "> ET_LOOK\n",
      "    --> Running `et_look` (v3).\n",
      "    --> Setting `rs_min` to `100`.\n",
      "    --> Setting `land_mask` to `1`.\n",
      "    --> Setting `z_obst_max` to `3`.\n",
      "    --> Calculating `declination`.\n",
      "    --> Calculating `inverse_earth_sun_distance`.\n",
      "    --> Calculating `vegetation_cover`.\n",
      "    --> Calculating `leaf_area_index`.\n",
      "    --> Calculating `effective_leaf_area_index`.\n",
      "    --> Calculating `soil_fraction`.\n",
      "    --> Calculating `latitude_rad`.\n",
      "    --> Calculating `sunset_hour_angle`.\n",
      "    --> Calculating `daily_solar_radiation_toa_flat`.\n",
      "    --> Calculating `seasonal_correction`.\n",
      "    --> Calculating `daily_solar_radiation_toa`.\n",
      "    --> Calculating `cosine_solar_zenith_angle`.\n",
      "    --> Calculating `inst_solar_radiation_toa`.\n",
      "    --> Calculating `transmissivity`.\n",
      "    --> Calculating `diffusion_index`.\n",
      "    --> Calculating `daily_total_solar_radiation`.\n",
      "    --> Calculating `stress_radiation`.\n",
      "    --> Calculating `air_pressure_kpa2mbar`.\n",
      "    --> Calculating `air_pressure_daily`.\n",
      "    --> Calculating `air_pressure`.\n",
      "    --> Calculating `vapour_pressure_from_specific_humidity_daily`.\n",
      "    --> Calculating `vapour_pressure_from_specific_humidity`.\n",
      "    --> Calculating `saturated_vapour_pressure_minimum`.\n",
      "    --> Calculating `saturated_vapour_pressure`.\n",
      "    --> Calculating `saturated_vapour_pressure_maximum`.\n",
      "    --> Calculating `saturated_vapour_pressure`.\n",
      "    --> Calculating `saturated_vapour_pressure_average`.\n",
      "    --> Calculating `vapour_pressure_deficit_daily`.\n",
      "    --> Calculating `vapour_pressure_deficit`.\n",
      "    --> Calculating `stress_vpd`.\n",
      "    --> Calculating `stress_temperature`.\n",
      "    --> Calculating `atmospheric_canopy_resistance`.\n",
      "    --> Calculating `air_temperature_kelvin_daily`.\n",
      "    --> Calculating `air_temperature_kelvin`.\n",
      "    --> Calculating `longwave_radiation_fao`.\n",
      "    --> Calculating `interception_mm`.\n",
      "    --> Calculating `latent_heat_daily`.\n",
      "    --> Calculating `latent_heat`.\n",
      "    --> Calculating `interception_wm2`.\n",
      "    --> Calculating `net_radiation`.\n",
      "    --> Calculating `net_radiation_canopy`.\n",
      "    --> Calculating `stress_moisture`.\n",
      "    --> Calculating `canopy_resistance`.\n",
      "    --> Setting `z_oro` to `0.001`.\n",
      "    --> Calculating `obstacle_height`.\n",
      "    --> Calculating `roughness_length`.\n",
      "    --> Calculating `wind_speed`.\n",
      "    --> Calculating `initial_canopy_aerodynamic_resistance`.\n",
      "    --> Calculating `wind_speed_blending_height_daily`.\n",
      "    --> Calculating `wind_speed_blending_height`.\n",
      "    --> Calculating `dry_air_density_daily`.\n",
      "    --> Calculating `dry_air_density`.\n",
      "    --> Calculating `moist_air_density_daily`.\n",
      "    --> Calculating `moist_air_density`.\n",
      "    --> Calculating `air_density_daily`.\n",
      "    --> Calculating `air_density`.\n",
      "    --> Calculating `psychrometric_constant_daily`.\n",
      "    --> Calculating `psychrometric_constant`.\n",
      "    --> Calculating `slope_saturated_vapour_pressure_daily`.\n",
      "    --> Calculating `slope_saturated_vapour_pressure`.\n",
      "    --> Calculating `saturated_vapour_pressure`.\n",
      "    --> Calculating `initial_daily_transpiration`.\n",
      "    --> Calculating `initial_sensible_heat_flux_canopy_daily`.\n",
      "    --> Calculating `displacement_height`.\n",
      "    --> Calculating `initial_friction_velocity_daily`.\n",
      "    --> Calculating `transpiration`.\n",
      "        --> Starting iteration 1.\n",
      "        --> Calculating `ra_canopy`.\n",
      "            --> Starting iteration 1.\n",
      "            --> Iteration 1 finished.\n",
      "        --> Iteration 1 finished.\n"
     ]
    },
    {
     "name": "stderr",
     "output_type": "stream",
     "text": [
      "C:\\Users\\ntr002\\.conda\\envs\\pywapor\\Lib\\site-packages\\pywapor\\et_look_v2_v3\\unstable.py:434: RuntimeWarning: All-NaN axis encountered\n",
      "  while (iteration < iter_ra) and (np.nanmax(epsilon) > 0.01):\n"
     ]
    },
    {
     "name": "stdout",
     "output_type": "stream",
     "text": [
      "    --> Calculating `transpiration_mm`.\n",
      "    --> Calculating `net_radiation_soil`.\n",
      "    --> Calculating `soil_resistance`.\n",
      "    --> Calculating `initial_soil_aerodynamic_resistance`.\n",
      "    --> Calculating `initial_friction_velocity_soil_daily`.\n",
      "    --> Calculating `soil_thermal_conductivity`.\n",
      "    --> Calculating `volumetric_heat_capacity`.\n",
      "    --> Calculating `damping_depth`.\n",
      "    --> Calculating `bare_soil_heat_flux`.\n",
      "    --> Calculating `soil_heat_flux`.\n",
      "    --> Calculating `initial_daily_evaporation`.\n",
      "    --> Calculating `initial_sensible_heat_flux_soil_daily`.\n",
      "    --> Calculating `evaporation`.\n"
     ]
    },
    {
     "name": "stderr",
     "output_type": "stream",
     "text": [
      "C:\\Users\\ntr002\\.conda\\envs\\pywapor\\Lib\\site-packages\\pywapor\\et_look_v2_v3\\unstable.py:584: RuntimeWarning: All-NaN axis encountered\n",
      "  while (iteration < iter_h) and (np.nanmax(epsilon) > 0.01):\n",
      "C:\\Users\\ntr002\\.conda\\envs\\pywapor\\Lib\\site-packages\\pywapor\\et_look_v2_v3\\unstable.py:688: RuntimeWarning: All-NaN axis encountered\n",
      "  while (iteration < iter_ra) and (np.nanmax(epsilon) > 0.01):\n"
     ]
    },
    {
     "name": "stdout",
     "output_type": "stream",
     "text": [
      "    --> Calculating `evaporation_mm`.\n",
      "    --> Calculating `eti_actual_mm`.\n",
      "    --> Calculating `net_radiation_grass`.\n",
      "    --> Calculating `et_reference`.\n",
      "    --> Calculating `et_reference_mm`.\n",
      "    --> Calculating `air_temperature_kelvin_daily`.\n",
      "    --> Calculating `air_temperature_kelvin`.\n",
      "    --> Calculating `air_temperature_kelvin_daily`.\n",
      "    --> Calculating `air_temperature_kelvin`.\n",
      "    --> Calculating `mean_temperature_kelvin_daytime`.\n",
      "    --> Calculating `temperature_dependency`.\n",
      "    --> Calculating `affinity_constant_co2`.\n",
      "    --> Calculating `inhibition_constant_o2`.\n",
      "    --> Calculating `co2_o2_specificity_ratio`.\n",
      "    --> Calculating `co2_level_annual`.\n",
      "    --> Calculating `autotrophic_respiration`.\n",
      "    --> Calculating `par`.\n",
      "    --> Calculating `fpar`.\n",
      "    --> Calculating `co2_fertilisation`.\n",
      "    --> Calculating `net_primary_production_max`.\n",
      "    --> Calculating `net_primary_production`.\n",
      "    --> Saving output to `et_look_out.nc`.\n"
     ]
    },
    {
     "name": "stderr",
     "output_type": "stream",
     "text": [
      "C:\\Users\\ntr002\\.conda\\envs\\pywapor\\Lib\\site-packages\\pywapor\\et_look_v2_v3\\unstable.py:829: RuntimeWarning: All-NaN axis encountered\n",
      "  while (iteration < iter_h) and (np.nanmax(epsilon) > 0.1):\n"
     ]
    },
    {
     "name": "stdout",
     "output_type": "stream",
     "text": [
      "        > peak-memory-usage: 2.2GB, execution-time: 0:00:04.882482.\n",
      "        > chunksize|dimsize: [time_bins: 2|2, y: 452|452, x: 500|759], crs: EPSG:4326\n",
      "< ET_LOOK (0:00:12.938430)\n"
     ]
    }
   ],
   "source": [
    "et_look = project.run_et_look()"
   ]
  },
  {
   "cell_type": "code",
   "execution_count": null,
   "id": "21fda5ec-147a-4cc6-861e-cbe47c11c751",
   "metadata": {},
   "outputs": [],
   "source": []
  }
 ],
 "metadata": {
  "kernelspec": {
   "display_name": "Python [conda env:.conda-pywapor]",
   "language": "python",
   "name": "conda-env-.conda-pywapor-py"
  },
  "language_info": {
   "codemirror_mode": {
    "name": "ipython",
    "version": 3
   },
   "file_extension": ".py",
   "mimetype": "text/x-python",
   "name": "python",
   "nbconvert_exporter": "python",
   "pygments_lexer": "ipython3",
   "version": "3.12.4"
  }
 },
 "nbformat": 4,
 "nbformat_minor": 5
}
